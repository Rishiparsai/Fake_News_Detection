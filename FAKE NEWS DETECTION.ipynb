{
 "cells": [
  {
   "cell_type": "markdown",
   "metadata": {},
   "source": [
    "# Fake News Detection Using Machine Learning\n",
    "\n",
    "- Group Members:\n",
    "  <ol>\n",
    "      <li> Dishesh Singh Chaudhary : 200001022\n",
    "      <li> Rishabh Sharma : 200001067\n",
    "      <li> Rishi Parsai : 200001068\n",
    "  </ol>\n",
    "<br>\n",
    "- Dataset Source-Kaggle, Based on 2017 USA Presidential Elections, Popular dataset in this domain\n",
    "    https://www.kaggle.com/c/fake-news/data\n",
    "<br>\n",
    "<br>\n",
    "- Following steps are performed in order during this project\n",
    "  <ol>\n",
    "    <li> Analyzing the Dataset\n",
    "    <li> Pre Processing the Dataset\n",
    "    <li> Feature Extraction Using CountVectorizer and Tfidf vectorizer\n",
    "    <li> Modeling Stage 1 using Test/Train Split\n",
    "    <li> Building Pipelines for all the algorithms (7 algorithm used)\n",
    "    <li> Modeling Stage 2 using K fold Cross validation \n",
    "    <li> Comparision of the Algorithms using F1 Scores and Mean Accuracies\n",
    "    <li> Analysis of Different Confusion Matrces Obtained\n",
    "  </ol>"
   ]
  },
  {
   "cell_type": "markdown",
   "metadata": {},
   "source": [
    "# 1. Analyzing the Dataset. "
   ]
  },
  {
   "cell_type": "code",
   "execution_count": null,
   "metadata": {},
   "outputs": [],
   "source": [
    "from sklearn import metrics\n",
    "from wordcloud import WordCloud, STOPWORDS \n",
    "from sklearn.metrics import confusion_matrix\n",
    "import matplotlib.pyplot as plt \n",
    "%matplotlib inline\n",
    "\n",
    "import os\n",
    "import re\n",
    "import nltk\n",
    "import seaborn as sns\n",
    "import numpy as np # linear algebra\n",
    "import pandas as pd #data processing"
   ]
  },
  {
   "cell_type": "code",
   "execution_count": null,
   "metadata": {},
   "outputs": [],
   "source": [
    "#Reading the csv file using pandas and puting it into 'train' dataframe\n",
    "train = pd.read_csv('./fake-news/train.csv')"
   ]
  },
  {
   "cell_type": "code",
   "execution_count": 3,
   "metadata": {},
   "outputs": [
    {
     "name": "stdout",
     "output_type": "stream",
     "text": [
      "(20800, 5)\n"
     ]
    }
   ],
   "source": [
    "print(train.shape)"
   ]
  },
  {
   "cell_type": "code",
   "execution_count": 4,
   "metadata": {},
   "outputs": [
    {
     "name": "stdout",
     "output_type": "stream",
     "text": [
      "id           0\n",
      "title      558\n",
      "author    1957\n",
      "text        39\n",
      "label        0\n",
      "dtype: int64\n",
      "************\n"
     ]
    }
   ],
   "source": [
    "#calculating number of null values in each column\n",
    "print(train.isnull().sum())\n",
    "print('************')"
   ]
  },
  {
   "cell_type": "code",
   "execution_count": 5,
   "metadata": {},
   "outputs": [
    {
     "data": {
      "text/html": [
       "<div>\n",
       "<style scoped>\n",
       "    .dataframe tbody tr th:only-of-type {\n",
       "        vertical-align: middle;\n",
       "    }\n",
       "\n",
       "    .dataframe tbody tr th {\n",
       "        vertical-align: top;\n",
       "    }\n",
       "\n",
       "    .dataframe thead th {\n",
       "        text-align: right;\n",
       "    }\n",
       "</style>\n",
       "<table border=\"1\" class=\"dataframe\">\n",
       "  <thead>\n",
       "    <tr style=\"text-align: right;\">\n",
       "      <th></th>\n",
       "      <th>id</th>\n",
       "      <th>title</th>\n",
       "      <th>author</th>\n",
       "      <th>text</th>\n",
       "      <th>label</th>\n",
       "      <th>total</th>\n",
       "    </tr>\n",
       "  </thead>\n",
       "  <tbody>\n",
       "    <tr>\n",
       "      <th>0</th>\n",
       "      <td>0</td>\n",
       "      <td>House Dem Aide: We Didn’t Even See Comey’s Let...</td>\n",
       "      <td>Darrell Lucus</td>\n",
       "      <td>House Dem Aide: We Didn’t Even See Comey’s Let...</td>\n",
       "      <td>1</td>\n",
       "      <td>House Dem Aide: We Didn’t Even See Comey’s Let...</td>\n",
       "    </tr>\n",
       "    <tr>\n",
       "      <th>1</th>\n",
       "      <td>1</td>\n",
       "      <td>FLYNN: Hillary Clinton, Big Woman on Campus - ...</td>\n",
       "      <td>Daniel J. Flynn</td>\n",
       "      <td>Ever get the feeling your life circles the rou...</td>\n",
       "      <td>0</td>\n",
       "      <td>FLYNN: Hillary Clinton, Big Woman on Campus - ...</td>\n",
       "    </tr>\n",
       "    <tr>\n",
       "      <th>2</th>\n",
       "      <td>2</td>\n",
       "      <td>Why the Truth Might Get You Fired</td>\n",
       "      <td>Consortiumnews.com</td>\n",
       "      <td>Why the Truth Might Get You Fired October 29, ...</td>\n",
       "      <td>1</td>\n",
       "      <td>Why the Truth Might Get You Fired Consortiumne...</td>\n",
       "    </tr>\n",
       "    <tr>\n",
       "      <th>3</th>\n",
       "      <td>3</td>\n",
       "      <td>15 Civilians Killed In Single US Airstrike Hav...</td>\n",
       "      <td>Jessica Purkiss</td>\n",
       "      <td>Videos 15 Civilians Killed In Single US Airstr...</td>\n",
       "      <td>1</td>\n",
       "      <td>15 Civilians Killed In Single US Airstrike Hav...</td>\n",
       "    </tr>\n",
       "    <tr>\n",
       "      <th>4</th>\n",
       "      <td>4</td>\n",
       "      <td>Iranian woman jailed for fictional unpublished...</td>\n",
       "      <td>Howard Portnoy</td>\n",
       "      <td>Print \\nAn Iranian woman has been sentenced to...</td>\n",
       "      <td>1</td>\n",
       "      <td>Iranian woman jailed for fictional unpublished...</td>\n",
       "    </tr>\n",
       "    <tr>\n",
       "      <th>5</th>\n",
       "      <td>5</td>\n",
       "      <td>Jackie Mason: Hollywood Would Love Trump if He...</td>\n",
       "      <td>Daniel Nussbaum</td>\n",
       "      <td>In these trying times, Jackie Mason is the Voi...</td>\n",
       "      <td>0</td>\n",
       "      <td>Jackie Mason: Hollywood Would Love Trump if He...</td>\n",
       "    </tr>\n",
       "    <tr>\n",
       "      <th>6</th>\n",
       "      <td>6</td>\n",
       "      <td>Life: Life Of Luxury: Elton John’s 6 Favorite ...</td>\n",
       "      <td></td>\n",
       "      <td>Ever wonder how Britain’s most iconic pop pian...</td>\n",
       "      <td>1</td>\n",
       "      <td>Life: Life Of Luxury: Elton John’s 6 Favorite ...</td>\n",
       "    </tr>\n",
       "    <tr>\n",
       "      <th>7</th>\n",
       "      <td>7</td>\n",
       "      <td>Benoît Hamon Wins French Socialist Party’s Pre...</td>\n",
       "      <td>Alissa J. Rubin</td>\n",
       "      <td>PARIS  —   France chose an idealistic, traditi...</td>\n",
       "      <td>0</td>\n",
       "      <td>Benoît Hamon Wins French Socialist Party’s Pre...</td>\n",
       "    </tr>\n",
       "    <tr>\n",
       "      <th>8</th>\n",
       "      <td>8</td>\n",
       "      <td>Excerpts From a Draft Script for Donald Trump’...</td>\n",
       "      <td></td>\n",
       "      <td>Donald J. Trump is scheduled to make a highly ...</td>\n",
       "      <td>0</td>\n",
       "      <td>Excerpts From a Draft Script for Donald Trump’...</td>\n",
       "    </tr>\n",
       "    <tr>\n",
       "      <th>9</th>\n",
       "      <td>9</td>\n",
       "      <td>A Back-Channel Plan for Ukraine and Russia, Co...</td>\n",
       "      <td>Megan Twohey and Scott Shane</td>\n",
       "      <td>A week before Michael T. Flynn resigned as nat...</td>\n",
       "      <td>0</td>\n",
       "      <td>A Back-Channel Plan for Ukraine and Russia, Co...</td>\n",
       "    </tr>\n",
       "  </tbody>\n",
       "</table>\n",
       "</div>"
      ],
      "text/plain": [
       "   id                                              title  \\\n",
       "0   0  House Dem Aide: We Didn’t Even See Comey’s Let...   \n",
       "1   1  FLYNN: Hillary Clinton, Big Woman on Campus - ...   \n",
       "2   2                  Why the Truth Might Get You Fired   \n",
       "3   3  15 Civilians Killed In Single US Airstrike Hav...   \n",
       "4   4  Iranian woman jailed for fictional unpublished...   \n",
       "5   5  Jackie Mason: Hollywood Would Love Trump if He...   \n",
       "6   6  Life: Life Of Luxury: Elton John’s 6 Favorite ...   \n",
       "7   7  Benoît Hamon Wins French Socialist Party’s Pre...   \n",
       "8   8  Excerpts From a Draft Script for Donald Trump’...   \n",
       "9   9  A Back-Channel Plan for Ukraine and Russia, Co...   \n",
       "\n",
       "                         author  \\\n",
       "0                 Darrell Lucus   \n",
       "1               Daniel J. Flynn   \n",
       "2            Consortiumnews.com   \n",
       "3               Jessica Purkiss   \n",
       "4                Howard Portnoy   \n",
       "5               Daniel Nussbaum   \n",
       "6                                 \n",
       "7               Alissa J. Rubin   \n",
       "8                                 \n",
       "9  Megan Twohey and Scott Shane   \n",
       "\n",
       "                                                text  label  \\\n",
       "0  House Dem Aide: We Didn’t Even See Comey’s Let...      1   \n",
       "1  Ever get the feeling your life circles the rou...      0   \n",
       "2  Why the Truth Might Get You Fired October 29, ...      1   \n",
       "3  Videos 15 Civilians Killed In Single US Airstr...      1   \n",
       "4  Print \\nAn Iranian woman has been sentenced to...      1   \n",
       "5  In these trying times, Jackie Mason is the Voi...      0   \n",
       "6  Ever wonder how Britain’s most iconic pop pian...      1   \n",
       "7  PARIS  —   France chose an idealistic, traditi...      0   \n",
       "8  Donald J. Trump is scheduled to make a highly ...      0   \n",
       "9  A week before Michael T. Flynn resigned as nat...      0   \n",
       "\n",
       "                                               total  \n",
       "0  House Dem Aide: We Didn’t Even See Comey’s Let...  \n",
       "1  FLYNN: Hillary Clinton, Big Woman on Campus - ...  \n",
       "2  Why the Truth Might Get You Fired Consortiumne...  \n",
       "3  15 Civilians Killed In Single US Airstrike Hav...  \n",
       "4  Iranian woman jailed for fictional unpublished...  \n",
       "5  Jackie Mason: Hollywood Would Love Trump if He...  \n",
       "6  Life: Life Of Luxury: Elton John’s 6 Favorite ...  \n",
       "7  Benoît Hamon Wins French Socialist Party’s Pre...  \n",
       "8  Excerpts From a Draft Script for Donald Trump’...  \n",
       "9  A Back-Channel Plan for Ukraine and Russia, Co...  "
      ]
     },
     "execution_count": 5,
     "metadata": {},
     "output_type": "execute_result"
    }
   ],
   "source": [
    "#filling the null values using an empty character\n",
    "train=train.fillna(' ')\n",
    "train['total']=train['title']+' '+train['author']+' '+train['text']\n",
    "train.head(10)"
   ]
  },
  {
   "cell_type": "code",
   "execution_count": 6,
   "metadata": {},
   "outputs": [
    {
     "data": {
      "text/plain": [
       "<AxesSubplot:xlabel='label', ylabel='count'>"
      ]
     },
     "execution_count": 6,
     "metadata": {},
     "output_type": "execute_result"
    },
    {
     "data": {
      "image/png": "[encoded data removed]",
      "text/plain": [
       "<Figure size 432x288 with 1 Axes>"
      ]
     },
     "metadata": {
      "needs_background": "light"
     },
     "output_type": "display_data"
    }
   ],
   "source": [
    "#visualising the class distribution in the dataset\n",
    "sns.countplot(data=train,\n",
    "              x='label',\n",
    "              order=train['label'].value_counts().index)"
   ]
  },
  {
   "cell_type": "markdown",
   "metadata": {},
   "source": [
    "# 2. Cleaning and preprocessing \n",
    "\n",
    "- Regex \n",
    "- Tokenization \n",
    "- StopWords\n",
    "- Lemmatization\n",
    "- Application"
   ]
  },
  {
   "cell_type": "markdown",
   "metadata": {},
   "source": [
    "## 2.1 Regex"
   ]
  },
  {
   "cell_type": "code",
   "execution_count": 7,
   "metadata": {},
   "outputs": [
    {
     "name": "stdout",
     "output_type": "stream",
     "text": [
      " hello please subscribe to the channel \n"
     ]
    }
   ],
   "source": [
    "#Remove punctuations from the String  \n",
    "s = \"!</> hello please$$ </>^s!!!u%%bs&&%$cri@@@be^^^&&!& </>*to@# the&&\\ cha@@@n##%^^&nel!@# %%$\"\n",
    "\n",
    "s = re.sub(r'[^\\w\\s]','',s)\n",
    "\n",
    "print(s)"
   ]
  },
  {
   "cell_type": "markdown",
   "metadata": {},
   "source": [
    "## 2.2 Tokenization"
   ]
  },
  {
   "cell_type": "code",
   "execution_count": 8,
   "metadata": {},
   "outputs": [
    {
     "name": "stderr",
     "output_type": "stream",
     "text": [
      "[nltk_data] Error loading punkt: <urlopen error [Errno 11001]\n",
      "[nltk_data]     getaddrinfo failed>\n"
     ]
    },
    {
     "data": {
      "text/plain": [
       "['Hello', 'how', 'are', 'you']"
      ]
     },
     "execution_count": 8,
     "metadata": {},
     "output_type": "execute_result"
    }
   ],
   "source": [
    "#Downloading nltk data\n",
    "nltk.download('punkt')\n",
    "\n",
    "nltk.word_tokenize(\"Hello how are you\")"
   ]
  },
  {
   "cell_type": "markdown",
   "metadata": {},
   "source": [
    "## 2.3 StopWords"
   ]
  },
  {
   "cell_type": "code",
   "execution_count": 9,
   "metadata": {},
   "outputs": [
    {
     "name": "stdout",
     "output_type": "stream",
     "text": [
      "['i', 'me', 'my', 'myself', 'we', 'our', 'ours', 'ourselves', 'you', \"you're\", \"you've\", \"you'll\", \"you'd\", 'your', 'yours', 'yourself', 'yourselves', 'he', 'him', 'his', 'himself', 'she', \"she's\", 'her', 'hers', 'herself', 'it', \"it's\", 'its', 'itself', 'they', 'them', 'their', 'theirs', 'themselves', 'what', 'which', 'who', 'whom', 'this', 'that', \"that'll\", 'these', 'those', 'am', 'is', 'are', 'was', 'were', 'be', 'been', 'being', 'have', 'has', 'had', 'having', 'do', 'does', 'did', 'doing', 'a', 'an', 'the', 'and', 'but', 'if', 'or', 'because', 'as', 'until', 'while', 'of', 'at', 'by', 'for', 'with', 'about', 'against', 'between', 'into', 'through', 'during', 'before', 'after', 'above', 'below', 'to', 'from', 'up', 'down', 'in', 'out', 'on', 'off', 'over', 'under', 'again', 'further', 'then', 'once', 'here', 'there', 'when', 'where', 'why', 'how', 'all', 'any', 'both', 'each', 'few', 'more', 'most', 'other', 'some', 'such', 'no', 'nor', 'not', 'only', 'own', 'same', 'so', 'than', 'too', 'very', 's', 't', 'can', 'will', 'just', 'don', \"don't\", 'should', \"should've\", 'now', 'd', 'll', 'm', 'o', 're', 've', 'y', 'ain', 'aren', \"aren't\", 'couldn', \"couldn't\", 'didn', \"didn't\", 'doesn', \"doesn't\", 'hadn', \"hadn't\", 'hasn', \"hasn't\", 'haven', \"haven't\", 'isn', \"isn't\", 'ma', 'mightn', \"mightn't\", 'mustn', \"mustn't\", 'needn', \"needn't\", 'shan', \"shan't\", 'shouldn', \"shouldn't\", 'wasn', \"wasn't\", 'weren', \"weren't\", 'won', \"won't\", 'wouldn', \"wouldn't\"]\n"
     ]
    }
   ],
   "source": [
    "from nltk.corpus import stopwords\n",
    "\n",
    "stop_words = stopwords.words('english')\n",
    "print(stop_words)"
   ]
  },
  {
   "cell_type": "code",
   "execution_count": 10,
   "metadata": {},
   "outputs": [],
   "source": [
    "sentence = \"Covid-19 pandemic has impacted many countries and what it did to economy is very stressful\""
   ]
  },
  {
   "cell_type": "code",
   "execution_count": 11,
   "metadata": {},
   "outputs": [
    {
     "data": {
      "text/plain": [
       "['Covid-19',\n",
       " 'pandemic',\n",
       " 'impacted',\n",
       " 'many',\n",
       " 'countries',\n",
       " 'economy',\n",
       " 'stressful']"
      ]
     },
     "execution_count": 11,
     "metadata": {},
     "output_type": "execute_result"
    }
   ],
   "source": [
    "words = nltk.word_tokenize(sentence)\n",
    "words = [w for w in words if w not in stop_words]\n",
    "\n",
    "words"
   ]
  },
  {
   "cell_type": "markdown",
   "metadata": {},
   "source": [
    "## 2.4 Lemmatization"
   ]
  },
  {
   "cell_type": "code",
   "execution_count": 12,
   "metadata": {},
   "outputs": [
    {
     "name": "stderr",
     "output_type": "stream",
     "text": [
      "[nltk_data] Error loading wordnet: <urlopen error [Errno 11001]\n",
      "[nltk_data]     getaddrinfo failed>\n"
     ]
    }
   ],
   "source": [
    "from nltk.stem import WordNetLemmatizer\n",
    "lemmatizer=WordNetLemmatizer()\n",
    "nltk.download('wordnet')\n",
    "\n",
    "input_str=\"been had done languages cities mice\""
   ]
  },
  {
   "cell_type": "code",
   "execution_count": 13,
   "metadata": {},
   "outputs": [
    {
     "name": "stdout",
     "output_type": "stream",
     "text": [
      "been\n",
      "had\n",
      "done\n",
      "language\n",
      "city\n",
      "mouse\n"
     ]
    }
   ],
   "source": [
    "#Tokenize the sentence\n",
    "input_str=nltk.word_tokenize(input_str)\n",
    "\n",
    "#Lemmatize each word\n",
    "for word in input_str:\n",
    "    print(lemmatizer.lemmatize(word))"
   ]
  },
  {
   "cell_type": "markdown",
   "metadata": {},
   "source": [
    "## 2.5 Let's Apply"
   ]
  },
  {
   "cell_type": "code",
   "execution_count": 14,
   "metadata": {},
   "outputs": [],
   "source": [
    "lemmatizer=WordNetLemmatizer()\n",
    "for index,row in train.iterrows():\n",
    "    filter_sentence = ''\n",
    "    sentence = row['total']\n",
    "    sentence = re.sub(r'[^\\w\\s]','',sentence) #cleaning\n",
    "    words = nltk.word_tokenize(sentence) #tokenization\n",
    "    words = [w for w in words if not w in stop_words]  #stopwords removal\n",
    "    for word in words:\n",
    "        filter_sentence = filter_sentence + ' ' + str(lemmatizer.lemmatize(word)).lower()\n",
    "    train.loc[index,'total'] = filter_sentence"
   ]
  },
  {
   "cell_type": "code",
   "execution_count": 15,
   "metadata": {},
   "outputs": [
    {
     "name": "stdout",
     "output_type": "stream",
     "text": [
      "(20800, 2)\n",
      "                                                   total  label\n",
      "0       house dem aide we didnt even see comeys lette...      1\n",
      "1       flynn hillary clinton big woman campus breitb...      0\n",
      "2       why truth might get you fired consortiumnewsc...      1\n",
      "3       15 civilians killed in single us airstrike ha...      1\n",
      "4       iranian woman jailed fictional unpublished st...      1\n",
      "...                                                  ...    ...\n",
      "20795   rapper ti trump poster child for white suprem...      0\n",
      "20796   nfl playoffs schedule matchups odds the new y...      0\n",
      "20797   macys is said receive takeover approach hudso...      0\n",
      "20798   nato russia to hold parallel exercises in bal...      1\n",
      "20799   what keeps f35 alive david swanson david swan...      1\n",
      "\n",
      "[20800 rows x 2 columns]\n"
     ]
    }
   ],
   "source": [
    "train = train[['total','label']]\n",
    "print(train.shape)\n",
    "print(train)"
   ]
  },
  {
   "cell_type": "markdown",
   "metadata": {},
   "source": [
    "# 3. Feature Extraction Using NLP \n",
    " - CountVectorizer\n",
    " - Tfidf Vectorizer\n",
    " - Application"
   ]
  },
  {
   "cell_type": "code",
   "execution_count": 16,
   "metadata": {},
   "outputs": [],
   "source": [
    "from sklearn.feature_extraction.text import TfidfTransformer\n",
    "from sklearn.feature_extraction.text import CountVectorizer\n",
    "from sklearn.feature_extraction.text import TfidfVectorizer"
   ]
  },
  {
   "cell_type": "code",
   "execution_count": 17,
   "metadata": {},
   "outputs": [],
   "source": [
    "X_train = train['total']\n",
    "Y_train_main = train['label']"
   ]
  },
  {
   "cell_type": "markdown",
   "metadata": {},
   "source": [
    "## 3.1 Bag-of-words / CountVectorizer"
   ]
  },
  {
   "cell_type": "code",
   "execution_count": 18,
   "metadata": {},
   "outputs": [
    {
     "name": "stdout",
     "output_type": "stream",
     "text": [
      "['and' 'document' 'first' 'is' 'one' 'second' 'the' 'third' 'this']\n"
     ]
    }
   ],
   "source": [
    "corpus = [\n",
    "    'This is the first document.',\n",
    "    'This document is the second document.',\n",
    "    'And this is the third one.',\n",
    "    'Is this the first document?',\n",
    "]\n",
    "vectorizer = CountVectorizer()\n",
    "X = vectorizer.fit_transform(corpus)\n",
    "print(vectorizer.get_feature_names_out())"
   ]
  },
  {
   "cell_type": "code",
   "execution_count": 19,
   "metadata": {},
   "outputs": [
    {
     "name": "stdout",
     "output_type": "stream",
     "text": [
      "[[0 1 1 1 0 0 1 0 1]\n",
      " [0 2 0 1 0 1 1 0 1]\n",
      " [1 0 0 1 1 0 1 1 1]\n",
      " [0 1 1 1 0 0 1 0 1]]\n"
     ]
    }
   ],
   "source": [
    "print(X.toarray())"
   ]
  },
  {
   "cell_type": "markdown",
   "metadata": {},
   "source": [
    "## 3.2 TF-iDF Vectorizer"
   ]
  },
  {
   "cell_type": "code",
   "execution_count": 20,
   "metadata": {},
   "outputs": [],
   "source": [
    "def vectorize_text(features, max_features):\n",
    "    vectorizer = TfidfVectorizer( stop_words='english',\n",
    "                            decode_error='strict',\n",
    "                            analyzer='word',\n",
    "                            ngram_range=(1, 2),\n",
    "                            max_features=max_features\n",
    "                            #max_df=0.5 # Verwendet im ML-Kurs unter Preprocessing                   \n",
    "                            )\n",
    "    feature_vec = vectorizer.fit_transform(features)\n",
    "    return feature_vec.toarray()"
   ]
  },
  {
   "cell_type": "code",
   "execution_count": 21,
   "metadata": {},
   "outputs": [],
   "source": [
    "tfidf_features = vectorize_text(['hello how are you doing','hi i am doing fine'],30)"
   ]
  },
  {
   "cell_type": "code",
   "execution_count": 22,
   "metadata": {},
   "outputs": [
    {
     "data": {
      "text/plain": [
       "array([[0.44943642, 0.        , 0.        , 0.6316672 , 0.6316672 ,\n",
       "        0.        , 0.        ],\n",
       "       [0.33517574, 0.47107781, 0.47107781, 0.        , 0.        ,\n",
       "        0.47107781, 0.47107781]])"
      ]
     },
     "execution_count": 22,
     "metadata": {},
     "output_type": "execute_result"
    }
   ],
   "source": [
    "tfidf_features"
   ]
  },
  {
   "cell_type": "markdown",
   "metadata": {},
   "source": [
    "## 3.3 Let's Apply"
   ]
  },
  {
   "cell_type": "code",
   "execution_count": 23,
   "metadata": {
    "scrolled": true
   },
   "outputs": [],
   "source": [
    "#Feature extraction using count vectorization and tfidf.\n",
    "count_vectorizer = CountVectorizer(max_features = 5000)\n",
    "count_vectorizer.fit_transform(X_train)\n",
    "freq_term_matrix = count_vectorizer.transform(X_train)\n",
    "tfidf = TfidfTransformer(norm=\"l2\")\n",
    "tfidf.fit(freq_term_matrix)\n",
    "tf_idf_matrix = tfidf.fit_transform(freq_term_matrix)"
   ]
  },
  {
   "cell_type": "code",
   "execution_count": 24,
   "metadata": {},
   "outputs": [
    {
     "name": "stdout",
     "output_type": "stream",
     "text": [
      "(20800, 5000)\n"
     ]
    },
    {
     "data": {
      "text/plain": [
       "<20800x5000 sparse matrix of type '<class 'numpy.float64'>'\n",
       "\twith 4504974 stored elements in Compressed Sparse Row format>"
      ]
     },
     "execution_count": 24,
     "metadata": {},
     "output_type": "execute_result"
    }
   ],
   "source": [
    "print(tf_idf_matrix.shape)\n",
    "tf_idf_matrix"
   ]
  },
  {
   "cell_type": "markdown",
   "metadata": {},
   "source": [
    "# 4. Modelling Stage 1"
   ]
  },
  {
   "cell_type": "markdown",
   "metadata": {},
   "source": [
    "## 4.1 Splitting dataset into Train and Test"
   ]
  },
  {
   "cell_type": "code",
   "execution_count": 25,
   "metadata": {},
   "outputs": [],
   "source": [
    "#splitting in samples\n",
    "from sklearn.model_selection import train_test_split\n",
    "X_train, X_test, Y_train, Y_test = train_test_split(tf_idf_matrix, Y_train_main, test_size=0.40, random_state=0)"
   ]
  },
  {
   "cell_type": "markdown",
   "metadata": {},
   "source": [
    "## 4.2 Building Custom function for Displaying Confusion Matrix"
   ]
  },
  {
   "cell_type": "code",
   "execution_count": 26,
   "metadata": {},
   "outputs": [],
   "source": [
    "#Custom function to plot confusion matrix\n",
    "from sklearn import metrics\n",
    "from sklearn.metrics import precision_score, recall_score, f1_score, accuracy_score\n",
    "import itertools\n",
    "\n",
    "def plot_confusion_matrix(cm, classes,\n",
    "                          normalize=False,\n",
    "                          title='Confusion matrix',\n",
    "                          cmap=plt.cm.Blues):\n",
    "    plt.imshow(cm, interpolation='nearest', cmap=cmap)\n",
    "    plt.title(title)\n",
    "    plt.colorbar()\n",
    "    tick_marks = np.arange(len(classes))\n",
    "    plt.xticks(tick_marks, classes, rotation=45)\n",
    "    plt.yticks(tick_marks, classes)\n",
    "\n",
    "    if normalize:\n",
    "        cm = cm.astype('float') / cm.sum(axis=1)[:, np.newaxis]\n",
    "        print(\"Normalized confusion matrix\")\n",
    "\n",
    "    thresh = cm.max() / 2.\n",
    "    for i, j in itertools.product(range(cm.shape[0]), range(cm.shape[1])):\n",
    "        plt.text(j, i, cm[i, j],\n",
    "                 horizontalalignment=\"center\",\n",
    "                 color=\"white\" if cm[i, j] > thresh else \"black\")\n",
    "\n",
    "    plt.tight_layout()\n",
    "    plt.ylabel('True label')\n",
    "    plt.xlabel('Predicted label')"
   ]
  },
  {
   "cell_type": "markdown",
   "metadata": {},
   "source": [
    "## 4.3 Logistic Regression"
   ]
  },
  {
   "cell_type": "code",
   "execution_count": 27,
   "metadata": {
    "scrolled": false
   },
   "outputs": [
    {
     "name": "stdout",
     "output_type": "stream",
     "text": [
      "Accuracy of LR classifier on training set: 0.98\n",
      "\n",
      "Different Scores for the Model on Test Dataset: \n",
      "\n",
      "Accuracy Score: 0.96\n",
      "Precision Score: 0.962\n",
      "Recal Score: 0.964\n",
      "F1 Score: 0.963\n"
     ]
    },
    {
     "data": {
      "image/png": "[encoded data removed]",
      "text/plain": [
       "<Figure size 432x288 with 2 Axes>"
      ]
     },
     "metadata": {
      "needs_background": "light"
     },
     "output_type": "display_data"
    }
   ],
   "source": [
    "from sklearn.linear_model import LogisticRegression\n",
    "logreg = LogisticRegression(max_iter = 200)\n",
    "logreg.fit(X_train, Y_train)\n",
    "lr_pred = logreg.predict(X_test)\n",
    "print('Accuracy of LR classifier on training set: {:.2f}'\n",
    "     .format(logreg.score(X_train, Y_train)))\n",
    "print('\\nDifferent Scores for the Model on Test Dataset: \\n')\n",
    "print('Accuracy Score: {:.2f}'\n",
    "     .format(logreg.score(X_test, Y_test)))\n",
    "print('Precision Score: %.3f' % precision_score(Y_test, lr_pred))\n",
    "print('Recal Score: %.3f' % recall_score(Y_test, lr_pred))\n",
    "print('F1 Score: %.3f' % f1_score(Y_test, lr_pred))\n",
    "lcm = confusion_matrix(Y_test, lr_pred)\n",
    "\n",
    "plot_confusion_matrix(lcm, classes=['FAKE', 'REAL'])"
   ]
  },
  {
   "cell_type": "markdown",
   "metadata": {},
   "source": [
    "## 4.4 MultinomialNB"
   ]
  },
  {
   "cell_type": "code",
   "execution_count": 28,
   "metadata": {},
   "outputs": [
    {
     "name": "stdout",
     "output_type": "stream",
     "text": [
      "Accuracy of NB  classifier on training set: 0.92\n",
      "\n",
      "Different Scores for the Model on Test Dataset: \n",
      "\n",
      "Accuracy Score: 0.90\n",
      "Precision Score: 0.939\n",
      "Recal Score: 0.864\n",
      "F1 Score: 0.900\n"
     ]
    },
    {
     "data": {
      "image/png": "[encoded data removed]",
      "text/plain": [
       "<Figure size 432x288 with 2 Axes>"
      ]
     },
     "metadata": {
      "needs_background": "light"
     },
     "output_type": "display_data"
    }
   ],
   "source": [
    "from sklearn.naive_bayes import MultinomialNB\n",
    "\n",
    "NB = MultinomialNB()\n",
    "NB.fit(X_train, Y_train)\n",
    "nb_pred = NB.predict(X_test)\n",
    "print('Accuracy of NB  classifier on training set: {:.2f}'\n",
    "     .format(NB.score(X_train, Y_train)))\n",
    "print('\\nDifferent Scores for the Model on Test Dataset: \\n')\n",
    "print('Accuracy Score: {:.2f}'\n",
    "     .format(NB.score(X_test, Y_test)))\n",
    "print('Precision Score: %.3f' % precision_score(Y_test, nb_pred))\n",
    "print('Recal Score: %.3f' % recall_score(Y_test, nb_pred))\n",
    "print('F1 Score: %.3f' % f1_score(Y_test, nb_pred))\n",
    "nbcm = confusion_matrix(Y_test, nb_pred)\n",
    "nbcm\n",
    "\n",
    "plot_confusion_matrix(nbcm, classes=['FAKE', 'REAL'])"
   ]
  },
  {
   "cell_type": "markdown",
   "metadata": {},
   "source": [
    "## 4.5 Random Forest"
   ]
  },
  {
   "cell_type": "code",
   "execution_count": 29,
   "metadata": {},
   "outputs": [
    {
     "name": "stdout",
     "output_type": "stream",
     "text": [
      "Accuracy of RF  classifier on training set: 1.00\n",
      "\n",
      "Different Scores for the Model on Test Dataset: \n",
      "\n",
      "Accuracy Score: 0.97\n",
      "Precision Score: 0.973\n",
      "Recal Score: 0.963\n",
      "F1 Score: 0.968\n"
     ]
    },
    {
     "data": {
      "image/png": "[encoded data removed]",
      "text/plain": [
       "<Figure size 432x288 with 2 Axes>"
      ]
     },
     "metadata": {
      "needs_background": "light"
     },
     "output_type": "display_data"
    }
   ],
   "source": [
    "from sklearn.ensemble import RandomForestClassifier\n",
    "\n",
    "RF = RandomForestClassifier(n_estimators = 60, max_depth = 76)  \n",
    "RF.fit(X_train, Y_train)\n",
    "rf_pred = RF.predict(X_test)\n",
    "print('Accuracy of RF  classifier on training set: {:.2f}'\n",
    "     .format(RF.score(X_train, Y_train)))\n",
    "print('\\nDifferent Scores for the Model on Test Dataset: \\n')\n",
    "print('Accuracy Score: {:.2f}'\n",
    "     .format(RF.score(X_test, Y_test)))\n",
    "print('Precision Score: %.3f' % precision_score(Y_test, rf_pred))\n",
    "print('Recal Score: %.3f' % recall_score(Y_test, rf_pred))\n",
    "print('F1 Score: %.3f' % f1_score(Y_test, rf_pred))\n",
    "rfcm = confusion_matrix(Y_test, rf_pred)\n",
    "\n",
    "plot_confusion_matrix(rfcm, classes=['FAKE', 'REAL'])"
   ]
  },
  {
   "cell_type": "markdown",
   "metadata": {},
   "source": [
    "## 4.6 SGD"
   ]
  },
  {
   "cell_type": "code",
   "execution_count": 30,
   "metadata": {},
   "outputs": [
    {
     "name": "stdout",
     "output_type": "stream",
     "text": [
      "Accuracy of SGD  classifier on training set: 0.99\n",
      "\n",
      "Different Scores for the Model on Test Dataset: \n",
      "\n",
      "Accuracy Score: 0.97\n",
      "Precision Score: 0.972\n",
      "Recal Score: 0.968\n",
      "F1 Score: 0.970\n"
     ]
    },
    {
     "data": {
      "image/png": "[encoded data removed]",
      "text/plain": [
       "<Figure size 432x288 with 2 Axes>"
      ]
     },
     "metadata": {
      "needs_background": "light"
     },
     "output_type": "display_data"
    }
   ],
   "source": [
    "from sklearn.linear_model import SGDClassifier\n",
    "\n",
    "sgd = SGDClassifier(loss=\"hinge\", max_iter=100)  \n",
    "sgd.fit(X_train, Y_train)\n",
    "sgd_pred = sgd.predict(X_test)\n",
    "print('Accuracy of SGD  classifier on training set: {:.2f}'\n",
    "     .format(sgd.score(X_train, Y_train)))\n",
    "print('\\nDifferent Scores for the Model on Test Dataset: \\n')\n",
    "print('Accuracy Score: {:.2f}'\n",
    "     .format(sgd.score(X_test, Y_test)))\n",
    "print('Precision Score: %.3f' % precision_score(Y_test, sgd_pred))\n",
    "print('Recal Score: %.3f' % recall_score(Y_test, sgd_pred))\n",
    "print('F1 Score: %.3f' % f1_score(Y_test, sgd_pred))\n",
    "scm = confusion_matrix(Y_test, sgd_pred)\n",
    "\n",
    "plot_confusion_matrix(scm, classes=['FAKE', 'REAL'])"
   ]
  },
  {
   "cell_type": "markdown",
   "metadata": {},
   "source": [
    "## 4.7 Passive Aggresive Classifier"
   ]
  },
  {
   "cell_type": "code",
   "execution_count": 31,
   "metadata": {},
   "outputs": [
    {
     "name": "stdout",
     "output_type": "stream",
     "text": [
      "Accuracy of PA classifier on training set: 1.00\n",
      "\n",
      "Different Scores for the Model on Test Dataset: \n",
      "\n",
      "Accuracy Score: 0.96\n",
      "Precision Score: 0.959\n",
      "Recal Score: 0.962\n",
      "F1 Score: 0.960\n"
     ]
    },
    {
     "data": {
      "image/png": "[encoded data removed]",
      "text/plain": [
       "<Figure size 432x288 with 2 Axes>"
      ]
     },
     "metadata": {
      "needs_background": "light"
     },
     "output_type": "display_data"
    }
   ],
   "source": [
    "from sklearn.linear_model import PassiveAggressiveClassifier\n",
    "\n",
    "ppa = PassiveAggressiveClassifier(C=1)\n",
    "ppa.fit(X_train, Y_train)\n",
    "ppa_pred = ppa.predict(X_test)\n",
    "print('Accuracy of PA classifier on training set: {:.2f}'\n",
    "     .format(ppa.score(X_train, Y_train)))\n",
    "print('\\nDifferent Scores for the Model on Test Dataset: \\n')\n",
    "print('Accuracy Score: {:.2f}'\n",
    "     .format(ppa.score(X_test, Y_test)))\n",
    "print('Precision Score: %.3f' % precision_score(Y_test, ppa_pred))\n",
    "print('Recal Score: %.3f' % recall_score(Y_test, ppa_pred))\n",
    "print('F1 Score: %.3f' % f1_score(Y_test, ppa_pred))\n",
    "pacm = confusion_matrix(Y_test, ppa_pred)\n",
    "\n",
    "plot_confusion_matrix(pacm, classes=['FAKE', 'REAL'])"
   ]
  },
  {
   "cell_type": "markdown",
   "metadata": {},
   "source": [
    "# 5. Building Pipelines for algorithms"
   ]
  },
  {
   "cell_type": "code",
   "execution_count": 32,
   "metadata": {},
   "outputs": [],
   "source": [
    "#Assiging the variables again as once transformed vectors can't be transformed again using pipeline.\n",
    "from sklearn.model_selection import train_test_split\n",
    "X_train, X_test, Y_train, Y_test = train_test_split(train['total'], train['label'], test_size=0.40, random_state=0)"
   ]
  },
  {
   "cell_type": "code",
   "execution_count": 33,
   "metadata": {},
   "outputs": [],
   "source": [
    "from sklearn.pipeline import Pipeline\n",
    "import joblib\n",
    "from sklearn import linear_model\n",
    "from sklearn.feature_extraction.text import TfidfTransformer\n",
    "from sklearn.feature_extraction.text import CountVectorizer\n",
    "from sklearn.feature_extraction.text import TfidfVectorizer\n",
    "from sklearn.ensemble import RandomForestClassifier\n",
    "from sklearn.linear_model import SGDClassifier"
   ]
  },
  {
   "cell_type": "code",
   "execution_count": 34,
   "metadata": {},
   "outputs": [],
   "source": [
    "plr = Pipeline([\n",
    "    ('plrc', CountVectorizer(max_features = 5000)),\n",
    "    ('plrt', TfidfTransformer(norm='l2')),\n",
    "    ('plrclf',  linear_model.LogisticRegression(max_iter=500))\n",
    "])\n",
    "\n",
    "pnb = Pipeline([\n",
    "    ('pnbc', CountVectorizer(max_features = 5000)),\n",
    "    ('pnbt', TfidfTransformer(norm='l2')),\n",
    "    ('pnbclf',  MultinomialNB())\n",
    "])\n",
    "\n",
    "prf = Pipeline([\n",
    "    ('prfc', CountVectorizer(max_features = 5000)),\n",
    "    ('prft', TfidfTransformer(norm='l2')),\n",
    "    ('prfclf', RandomForestClassifier(n_estimators = 60) )\n",
    "])\n",
    "\n",
    "psg = Pipeline([\n",
    "    ('psgc', CountVectorizer(max_features = 5000)),\n",
    "    ('psgt', TfidfTransformer(norm='l2')),\n",
    "    ('psgclf', SGDClassifier(loss=\"hinge\", max_iter=100)  )\n",
    "])\n",
    "\n",
    "ppa = Pipeline([\n",
    "    ('ppac', CountVectorizer(max_features = 5000)),\n",
    "    ('ppat', TfidfTransformer(norm='l2')),\n",
    "    ('ppaclf', PassiveAggressiveClassifier(C=0.5))\n",
    "])\n",
    "\n",
    "##Creating copies of original pipelines so that we have atleast one copy of each pipeline whihc is not trained or modified\n",
    "plr1 = plr\n",
    "pnb1 = pnb\n",
    "prf1 = prf\n",
    "psg1 = psg\n",
    "ppa1 = ppa\n",
    "\n",
    "plr2 = plr\n",
    "pnb2 = pnb\n",
    "prf2 = prf\n",
    "psg2 = psg\n",
    "ppa2 = ppa"
   ]
  },
  {
   "cell_type": "markdown",
   "metadata": {},
   "source": [
    "## 5.2 Training the pipelines "
   ]
  },
  {
   "cell_type": "code",
   "execution_count": 35,
   "metadata": {
    "scrolled": false
   },
   "outputs": [],
   "source": [
    "f1 = plr1.fit(X_train, Y_train)\n",
    "f2 = pnb1.fit(X_train, Y_train)\n",
    "f3 = prf1.fit(X_train, Y_train)\n",
    "f4 = psg1.fit(X_train, Y_train)\n",
    "f5 = ppa1.fit(X_train, Y_train)"
   ]
  },
  {
   "cell_type": "code",
   "execution_count": 36,
   "metadata": {},
   "outputs": [
    {
     "data": {
      "text/plain": [
       "['ppa1.sav']"
      ]
     },
     "execution_count": 36,
     "metadata": {},
     "output_type": "execute_result"
    }
   ],
   "source": [
    "#saving the pipeline\n",
    "filename1 = 'plr1.sav'\n",
    "joblib.dump(plr1, filename1)\n",
    "\n",
    "filename2 = 'pnb1.sav'\n",
    "joblib.dump(pnb1, filename2)\n",
    "\n",
    "filename3 = 'prf1.sav'\n",
    "joblib.dump(prf1, filename3)\n",
    "\n",
    "filename4 = 'psg1.sav'\n",
    "joblib.dump(psg1, filename4)\n",
    "\n",
    "filename5 = 'ppa1.sav'\n",
    "joblib.dump(ppa1, filename5)\n"
   ]
  },
  {
   "cell_type": "markdown",
   "metadata": {},
   "source": [
    "## 5.3 Checking the pipelines are Working using Train/Test split"
   ]
  },
  {
   "cell_type": "code",
   "execution_count": 37,
   "metadata": {},
   "outputs": [
    {
     "name": "stdout",
     "output_type": "stream",
     "text": [
      "0.9608173076923077\n",
      "0.9153846153846154\n",
      "0.9456730769230769\n",
      "0.9746394230769231\n",
      "0.9731971153846154\n"
     ]
    }
   ],
   "source": [
    "## using pipelines for predictions\n",
    "import warnings\n",
    "warnings.filterwarnings(\"ignore\")\n",
    "\n",
    "loaded_model = joblib.load('plr.sav')\n",
    "plr_pred = loaded_model.predict(X_test)\n",
    "plr_result = np.mean(plr_pred == Y_test)\n",
    "\n",
    "loaded_model = joblib.load('pnb.sav')\n",
    "pnb_pred = loaded_model.predict(X_test)\n",
    "pnb_result = np.mean(pnb_pred == Y_test)\n",
    "\n",
    "loaded_model = joblib.load('prf.sav')\n",
    "prf_pred = loaded_model.predict(X_test)\n",
    "prf_result = np.mean(prf_pred == Y_test)\n",
    "\n",
    "loaded_model = joblib.load('psg.sav')\n",
    "psg_pred = loaded_model.predict(X_test)\n",
    "psg_result = np.mean(psg_pred == Y_test)\n",
    "\n",
    "loaded_model = joblib.load('ppa.sav')\n",
    "ppa_pred = loaded_model.predict(X_test)\n",
    "ppa_result = np.mean(ppa_pred == Y_test)\n",
    "\n",
    "print(plr_result)\n",
    "print(pnb_result)\n",
    "print(prf_result)\n",
    "print(psg_result)\n",
    "print(ppa_result)"
   ]
  },
  {
   "cell_type": "markdown",
   "metadata": {},
   "source": [
    "# 5.4 Pipelines for Ensemble Methods"
   ]
  },
  {
   "cell_type": "markdown",
   "metadata": {},
   "source": [
    "## 5.4.1 Voting Classifier"
   ]
  },
  {
   "cell_type": "code",
   "execution_count": 38,
   "metadata": {},
   "outputs": [],
   "source": [
    "from sklearn.metrics import log_loss\n",
    "from xgboost import XGBClassifier\n",
    "from sklearn.ensemble import VotingClassifier\n",
    "\n",
    "model_1 = LogisticRegression(max_iter=200)\n",
    "model_2 = XGBClassifier()\n",
    "model_3 = PassiveAggressiveClassifier(C=0.5)\n",
    "\n",
    "vc = VotingClassifier(\n",
    "    estimators=[('mlr', model_1), ('mxgb', model_2), ('mpa', model_3)], voting='hard')\n",
    "\n",
    "pvc = Pipeline([\n",
    "    ('prfc', CountVectorizer(max_features = 5000)),\n",
    "    ('prft', TfidfTransformer(norm='l2')),\n",
    "    ('prfclf', vc)\n",
    "])\n",
    "\n",
    "#creating copy\n",
    "pvc1 = pvc"
   ]
  },
  {
   "cell_type": "code",
   "execution_count": 39,
   "metadata": {},
   "outputs": [
    {
     "data": {
      "text/plain": [
       "['pvc1.sav']"
      ]
     },
     "execution_count": 39,
     "metadata": {},
     "output_type": "execute_result"
    }
   ],
   "source": [
    "#training and building the pipeline\n",
    "f6 = pvc1.fit(X_train, Y_train)\n",
    "filename6 = 'pvc1.sav'\n",
    "joblib.dump(pvc1, filename6)"
   ]
  },
  {
   "cell_type": "code",
   "execution_count": 40,
   "metadata": {},
   "outputs": [
    {
     "data": {
      "text/plain": [
       "0.973798076923077"
      ]
     },
     "execution_count": 40,
     "metadata": {},
     "output_type": "execute_result"
    }
   ],
   "source": [
    "#loading the pipeline\n",
    "loaded_model = joblib.load('pvc1.sav')\n",
    "pvc_pred = loaded_model.predict(X_test)\n",
    "pvc_result = np.mean(pvc_pred == Y_test)\n",
    "pvc_result"
   ]
  },
  {
   "cell_type": "markdown",
   "metadata": {},
   "source": [
    "## 5.4.2 Stacking Classifier"
   ]
  },
  {
   "cell_type": "code",
   "execution_count": 41,
   "metadata": {},
   "outputs": [],
   "source": [
    "# importing stacking lib\n",
    "from mlxtend.classifier import StackingClassifier\n",
    " \n",
    "# Splitting between train data into training and validation dataset\n",
    "X_train, X_test, y_train, y_test = train_test_split(\n",
    "    train['total'], train['label'], test_size=0.20)\n",
    " \n",
    "# putting all base model objects in one list\n",
    "\n",
    "model_1 = RandomForestClassifier(n_estimators = 60)\n",
    "model_2 = PassiveAggressiveClassifier(C=0.5)\n",
    "\n",
    "all_models = [model_1, model_2]\n",
    " \n",
    "# computing the stack features\n",
    "stc = StackingClassifier(classifiers=all_models, meta_classifier = SGDClassifier(loss=\"hinge\", max_iter= 200)) \n",
    "\n",
    "pst = Pipeline([\n",
    "    ('prfc', CountVectorizer(max_features = 5000)),\n",
    "    ('prft', TfidfTransformer(norm='l2')),\n",
    "    ('prfclf', stc)\n",
    "])\n",
    "\n",
    "pst1 = pst"
   ]
  },
  {
   "cell_type": "code",
   "execution_count": 42,
   "metadata": {},
   "outputs": [
    {
     "data": {
      "text/plain": [
       "['pst1.sav']"
      ]
     },
     "execution_count": 42,
     "metadata": {},
     "output_type": "execute_result"
    }
   ],
   "source": [
    "f7 = pst1.fit(X_train, y_train)\n",
    "filename7 = 'pst1.sav'\n",
    "joblib.dump(pst1, filename7)"
   ]
  },
  {
   "cell_type": "code",
   "execution_count": 43,
   "metadata": {},
   "outputs": [
    {
     "data": {
      "text/plain": [
       "0.9721153846153846"
      ]
     },
     "execution_count": 43,
     "metadata": {},
     "output_type": "execute_result"
    }
   ],
   "source": [
    "# #training the model\n",
    "loaded_model = joblib.load('pst1.sav')\n",
    "pst_pred = loaded_model.predict(X_test)\n",
    "\n",
    "# # printing the mean error between real value and predicted value\n",
    "pst_result = np.mean(pst_pred == y_test)\n",
    "pst_result"
   ]
  },
  {
   "cell_type": "markdown",
   "metadata": {},
   "source": [
    "# 6. K Fold Cross Validation and Model Comparision"
   ]
  },
  {
   "cell_type": "code",
   "execution_count": 44,
   "metadata": {},
   "outputs": [],
   "source": [
    "from sklearn.model_selection import KFold\n",
    "from sklearn.metrics import confusion_matrix, f1_score, classification_report\n",
    "from sklearn.model_selection import GridSearchCV\n",
    "from sklearn.model_selection import learning_curve\n",
    "from sklearn.metrics import precision_recall_curve\n",
    "from sklearn.metrics import average_precision_score"
   ]
  },
  {
   "cell_type": "code",
   "execution_count": 45,
   "metadata": {},
   "outputs": [],
   "source": [
    "def kFoldCV(classifier):\n",
    "    k_fold = KFold(n_splits=5)\n",
    "    scoref1S = []\n",
    "    scorePreS = []\n",
    "    scoreRecS = []\n",
    "    scoreAccS = []\n",
    "    \n",
    "    confusion = np.array([[0,0],[0,0]])\n",
    "\n",
    "    for train_ind, test_ind in k_fold.split(train):\n",
    "        train_text = train.iloc[train_ind]['total'] \n",
    "        train_y = train.iloc[train_ind]['label']\n",
    "    \n",
    "        test_text = train.iloc[test_ind]['total']\n",
    "        test_y = train.iloc[test_ind]['label']\n",
    "        \n",
    "        classifier.fit(train_text,train_y)\n",
    "        predictions = classifier.predict(test_text)\n",
    "        \n",
    "        confusion += confusion_matrix(test_y,predictions)\n",
    "        scoref1 = f1_score(test_y,predictions)\n",
    "        scorePre = precision_score(test_y, predictions)\n",
    "        scoreRec = recall_score(test_y, predictions)\n",
    "        scoreAcc = accuracy_score(test_y, predictions)\n",
    "        \n",
    "        scoref1S.append(scoref1)\n",
    "        scorePreS.append(scorePre)\n",
    "        scoreRecS.append(scoreAcc)\n",
    "        scoreAccS.append(scoreAcc)\n",
    "    \n",
    "    f1 = sum(scoref1S)/len(scoref1S)\n",
    "    rec = sum(scorePreS)/len(scorePreS)\n",
    "    pre = sum(scoreRecS)/len(scoreRecS)\n",
    "    acc = sum(scoreAccS)/len(scoreAccS)\n",
    "    return [f1, rec, pre, acc, confusion]"
   ]
  },
  {
   "cell_type": "markdown",
   "metadata": {},
   "source": [
    "# 7. Comparing the models  using diff. scores"
   ]
  },
  {
   "cell_type": "code",
   "execution_count": 46,
   "metadata": {},
   "outputs": [],
   "source": [
    "#K-fold cross validation for all classifiers\n",
    "kflr = kFoldCV(plr)"
   ]
  },
  {
   "cell_type": "code",
   "execution_count": 47,
   "metadata": {},
   "outputs": [],
   "source": [
    "kfnb = kFoldCV(pnb)"
   ]
  },
  {
   "cell_type": "code",
   "execution_count": 53,
   "metadata": {},
   "outputs": [],
   "source": [
    "kfrf = kFoldCV(prf)"
   ]
  },
  {
   "cell_type": "code",
   "execution_count": 49,
   "metadata": {},
   "outputs": [],
   "source": [
    "kfsg = kFoldCV(psg)"
   ]
  },
  {
   "cell_type": "code",
   "execution_count": 50,
   "metadata": {},
   "outputs": [],
   "source": [
    "kfpa = kFoldCV(ppa)"
   ]
  },
  {
   "cell_type": "code",
   "execution_count": 51,
   "metadata": {},
   "outputs": [],
   "source": [
    "kfvc = kFoldCV(pvc)"
   ]
  },
  {
   "cell_type": "code",
   "execution_count": 52,
   "metadata": {},
   "outputs": [],
   "source": [
    "kfst = kFoldCV(pst)"
   ]
  },
  {
   "cell_type": "code",
   "execution_count": 54,
   "metadata": {},
   "outputs": [
    {
     "name": "stdout",
     "output_type": "stream",
     "text": [
      "0.9643749999999999\n",
      "0.90625\n",
      "0.9731249999999999\n",
      "0.9694230769230769\n",
      "0.9640384615384615\n",
      "0.9766826923076923\n",
      "0.9725961538461538\n"
     ]
    }
   ],
   "source": [
    "#printing accuracies for chechking\n",
    "print(kflr[3])\n",
    "print(kfnb[3])\n",
    "print(kfrf[3])\n",
    "print(kfsg[3])\n",
    "print(kfpa[3])\n",
    "print(kfvc[3])\n",
    "print(kfst[3])"
   ]
  },
  {
   "cell_type": "code",
   "execution_count": 61,
   "metadata": {},
   "outputs": [
    {
     "data": {
      "image/png": "[encoded data removed]",
      "text/plain": [
       "<Figure size 720x432 with 1 Axes>"
      ]
     },
     "metadata": {
      "needs_background": "light"
     },
     "output_type": "display_data"
    }
   ],
   "source": [
    "# creating the dataset\n",
    "f1_ss = {'LR': kflr[0], 'MNB': kfnb[0], 'RF':kfrf[0],\n",
    "        'SGD': kfsg[0], 'PAC':kfpa[0], 'VC':kfvc[0], 'ST': kfst[0]}\n",
    "algos = list(f1_ss.keys())\n",
    "scos = list(f1_ss.values())\n",
    "  \n",
    "# Figure Size\n",
    "fig, ax = plt.subplots(figsize=(10, 6))\n",
    " \n",
    "# Horizontal Bar Plot\n",
    "ax.barh(algos, scos)\n",
    "\n",
    "# Remove x, y Ticks\n",
    "ax.xaxis.set_ticks_position('none')\n",
    "ax.yaxis.set_ticks_position('none')\n",
    " \n",
    "# Add padding between axes and labels\n",
    "ax.xaxis.set_tick_params(pad=5)\n",
    "ax.yaxis.set_tick_params(pad=10)\n",
    " \n",
    "# # Add x, y gridlines\n",
    "# ax.grid(b=True, color='green',\n",
    "#         linestyle='-.', linewidth=0.5,\n",
    "#         alpha=0.2)\n",
    " \n",
    "# Show top values\n",
    "ax.invert_yaxis()\n",
    " \n",
    "# Add annotation to bars\n",
    "for i in ax.patches:\n",
    "    plt.text(i.get_width()+0.2, i.get_y()+0.5,\n",
    "             str(round((i.get_width()), 2)),\n",
    "             fontsize=10, fontweight='bold',\n",
    "             color='blue')\n",
    "\n",
    "ax.set_title('F1 Scores of Models After K Fold CV',\n",
    "             loc='left', )\n",
    "    \n",
    "\n",
    "plt.ylim(7)\n",
    "plt.show()"
   ]
  },
  {
   "cell_type": "code",
   "execution_count": 65,
   "metadata": {},
   "outputs": [
    {
     "data": {
      "image/png": "[encoded data removed]",
      "text/plain": [
       "<Figure size 720x432 with 1 Axes>"
      ]
     },
     "metadata": {
      "needs_background": "light"
     },
     "output_type": "display_data"
    }
   ],
   "source": [
    "# creating the dataset\n",
    "f1_ss = {'LR': kflr[3], 'MNB': kfnb[3], 'RF':kfrf[3],\n",
    "        'SGD': kfsg[3], 'PAC':kfpa[3], 'VC':kfvc[3], 'ST': kfst[3]}\n",
    "algos = list(f1_ss.keys())\n",
    "scos = list(f1_ss.values())\n",
    "  \n",
    "# Figure Size\n",
    "fig, ax = plt.subplots(figsize=(10, 6))\n",
    " \n",
    "# Horizontal Bar Plot\n",
    "ax.barh(algos, scos, color = 'green')\n",
    "\n",
    "# Remove x, y Ticks\n",
    "ax.xaxis.set_ticks_position('none')\n",
    "ax.yaxis.set_ticks_position('none')\n",
    " \n",
    "# Add padding between axes and labels\n",
    "ax.xaxis.set_tick_params(pad=5)\n",
    "ax.yaxis.set_tick_params(pad=10)\n",
    " \n",
    "# # Add x, y gridlines\n",
    "# ax.grid(b=True, color='green',\n",
    "#         linestyle='-.', linewidth=0.5,\n",
    "#         alpha=0.2)\n",
    " \n",
    "# Show top values\n",
    "ax.invert_yaxis()\n",
    " \n",
    "# Add annotation to bars\n",
    "for i in ax.patches:\n",
    "    plt.text(i.get_width()+0.2, i.get_y()+0.5,\n",
    "             str(round((i.get_width()), 2)),\n",
    "             fontsize=10, fontweight='bold',\n",
    "             color='green')\n",
    "\n",
    "ax.set_title('Mean Accuracies of Models After K Fold CV',\n",
    "             loc='left', )\n",
    "    \n",
    "\n",
    "plt.ylim(7)\n",
    "plt.show()"
   ]
  },
  {
   "cell_type": "code",
   "execution_count": 66,
   "metadata": {},
   "outputs": [
    {
     "data": {
      "image/png": "[encoded data removed]",
      "text/plain": [
       "<Figure size 720x432 with 1 Axes>"
      ]
     },
     "metadata": {
      "needs_background": "light"
     },
     "output_type": "display_data"
    }
   ],
   "source": [
    "# creating the dataset\n",
    "f1_ss = {'LR': kflr[1], 'MNB': kfnb[1], 'RF':kfrf[1],\n",
    "        'SGD': kfsg[1], 'PAC':kfpa[1], 'VC':kfvc[1], 'ST': kfst[1]}\n",
    "algos = list(f1_ss.keys())\n",
    "scos = list(f1_ss.values())\n",
    "  \n",
    "# Figure Size\n",
    "fig, ax = plt.subplots(figsize=(10, 6))\n",
    " \n",
    "# Horizontal Bar Plot\n",
    "ax.barh(algos, scos, color = 'purple')\n",
    "\n",
    "# Remove x, y Ticks\n",
    "ax.xaxis.set_ticks_position('none')\n",
    "ax.yaxis.set_ticks_position('none')\n",
    " \n",
    "# Add padding between axes and labels\n",
    "ax.xaxis.set_tick_params(pad=5)\n",
    "ax.yaxis.set_tick_params(pad=10)\n",
    " \n",
    "# # Add x, y gridlines\n",
    "# ax.grid(b=True, color='green',\n",
    "#         linestyle='-.', linewidth=0.5,\n",
    "#         alpha=0.2)\n",
    " \n",
    "# Show top values\n",
    "ax.invert_yaxis()\n",
    " \n",
    "# Add annotation to bars\n",
    "for i in ax.patches:\n",
    "    plt.text(i.get_width()+0.2, i.get_y()+0.5,\n",
    "             str(round((i.get_width()), 2)),\n",
    "             fontsize=10, fontweight='bold',\n",
    "             color='purple')\n",
    "\n",
    "ax.set_title('Recall Scores of Models After K Fold CV',\n",
    "             loc='left', )\n",
    "    \n",
    "\n",
    "plt.ylim(7)\n",
    "plt.show()"
   ]
  },
  {
   "cell_type": "markdown",
   "metadata": {},
   "source": [
    "# 8 Analyzing Confusion Matrix for Different Models"
   ]
  },
  {
   "cell_type": "code",
   "execution_count": 62,
   "metadata": {},
   "outputs": [
    {
     "name": "stdout",
     "output_type": "stream",
     "text": [
      "\n",
      "\n"
     ]
    },
    {
     "data": {
      "image/png": "[encoded data removed]",
      "text/plain": [
       "<Figure size 1440x1800 with 14 Axes>"
      ]
     },
     "metadata": {
      "needs_background": "light"
     },
     "output_type": "display_data"
    }
   ],
   "source": [
    "fig = plt.figure(figsize=(20, 25))\n",
    "# setting values to rows and column variables\n",
    "rows = 5\n",
    "columns = 3\n",
    "\n",
    "# Adds a subplot at the 1st position\n",
    "fig.add_subplot(rows, columns, 1)\n",
    "  \n",
    "# showing image\n",
    "plot_confusion_matrix(kflr[4], classes=['FAKE', 'REAL'])\n",
    "plt.axis('off')\n",
    "plt.title(\"LR Classifier\")\n",
    "  \n",
    "# Adds a subplot at the 2nd position\n",
    "fig.add_subplot(rows, columns, 2)\n",
    "  \n",
    "# showing image\n",
    "plot_confusion_matrix(kfnb[4], classes=['FAKE', 'REAL'])\n",
    "plt.axis('off')\n",
    "plt.title(\"MNB Classifier\")\n",
    "\n",
    "fig.add_subplot(rows, columns, 3)\n",
    "  \n",
    "# showing image\n",
    "plot_confusion_matrix(kfrf[4], classes=['FAKE', 'REAL'])\n",
    "plt.axis('off')\n",
    "plt.title(\"RF Classifier\")\n",
    "  \n",
    "# Adds a subplot at the 2nd position\n",
    "fig.add_subplot(rows, columns, 4)\n",
    "  \n",
    "# showing image\n",
    "plot_confusion_matrix(kfsg[4], classes=['FAKE', 'REAL'])\n",
    "plt.axis('off')\n",
    "plt.title(\"SGD Classifier\")\n",
    "\n",
    "# Adds a subplot at the 2nd position\n",
    "fig.add_subplot(rows, columns, 5)\n",
    "  \n",
    "# showing image\n",
    "plot_confusion_matrix(kfpa[4], classes=['FAKE', 'REAL'])\n",
    "plt.axis('off')\n",
    "plt.title(\"PA Classifier\")\n",
    "\n",
    "# Adds a subplot at the 2nd position\n",
    "fig.add_subplot(rows, columns, 6)\n",
    "  \n",
    "# showing image\n",
    "plot_confusion_matrix(kfvc[4], classes=['FAKE', 'REAL'])\n",
    "plt.axis('off')\n",
    "plt.title(\"VC Classifier\")\n",
    "\n",
    "#  Adds a subplot at the 2nd position\n",
    "fig.add_subplot(rows, columns, 7)\n",
    "  \n",
    "#  showing image\n",
    "plot_confusion_matrix(kfst[4], classes=['FAKE', 'REAL'])\n",
    "plt.axis('off')\n",
    "plt.title(\"ST Classifier\")\n",
    "\n",
    "print('\\n')"
   ]
  }
 ],
 "metadata": {
  "kernelspec": {
   "display_name": "Python 3",
   "language": "python",
   "name": "python3"
  },
  "language_info": {
   "codemirror_mode": {
    "name": "ipython",
    "version": 3
   },
   "file_extension": ".py",
   "mimetype": "text/x-python",
   "name": "python",
   "nbconvert_exporter": "python",
   "pygments_lexer": "ipython3",
   "version": "3.8.8"
  }
 },
 "nbformat": 4,
 "nbformat_minor": 2
}
